{
 "cells": [
  {
   "cell_type": "code",
   "execution_count": 1,
   "metadata": {},
   "outputs": [],
   "source": [
    "import pandas as pd\n",
    "\n",
    "def price_gas_contract(injection_dates, withdrawal_dates, injection_prices, withdrawal_prices, \n",
    "                       injection_rate, withdrawal_rate, max_volume, storage_cost_per_month, \n",
    "                       injection_withdrawal_cost, transport_cost):\n",
    "   \n",
    "    total_value = 0\n",
    "    total_storage_cost = 0\n",
    "    total_injection_withdrawal_cost = 0\n",
    "    total_transport_cost = transport_cost * 2 \n",
    "\n",
    "    injected_volume = min(injection_rate * len(injection_dates), max_volume)\n",
    "    withdrawn_volume = min(withdrawal_rate * len(withdrawal_dates), injected_volume)\n",
    "\n",
    "    total_injection_cost = sum([price * injection_rate for price in injection_prices])\n",
    "\n",
    "    total_withdrawal_revenue = sum([price * withdrawal_rate for price in withdrawal_prices])\n",
    "\n",
    "    storage_duration = len(withdrawal_dates) - len(injection_dates)\n",
    "    total_storage_cost = storage_cost_per_month * storage_duration\n",
    "\n",
    "    total_injection_withdrawal_cost = injection_withdrawal_cost * (injected_volume + withdrawn_volume)\n",
    "\n",
    "    total_value = (total_withdrawal_revenue - total_injection_cost) \\\n",
    "                  - total_storage_cost - total_injection_withdrawal_cost - total_transport_cost\n",
    "\n",
    "    return total_value"
   ]
  },
  {
   "cell_type": "code",
   "execution_count": 2,
   "metadata": {},
   "outputs": [
    {
     "name": "stdout",
     "output_type": "stream",
     "text": [
      "The value of the gas contract is: $-39998200000.00\n"
     ]
    }
   ],
   "source": [
    "injection_dates = ['2024-05-01', '2024-06-01']\n",
    "withdrawal_dates = ['2024-12-01', '2025-01-01']\n",
    "injection_prices = [2.0, 2.2]\n",
    "withdrawal_prices = [3.0, 3.1]\n",
    "injection_rate = 1e6  \n",
    "withdrawal_rate = 1e6  \n",
    "max_volume = 2e6  \n",
    "storage_cost_per_month = 100000 \n",
    "injection_withdrawal_cost = 10000  \n",
    "transport_cost = 50000  \n",
    "\n",
    "contract_value = price_gas_contract(injection_dates, withdrawal_dates, injection_prices, withdrawal_prices, \n",
    "                                    injection_rate, withdrawal_rate, max_volume, storage_cost_per_month, \n",
    "                                    injection_withdrawal_cost, transport_cost)\n",
    "\n",
    "print(f\"The value of the gas contract is: ${contract_value:.2f}\")\n"
   ]
  }
 ],
 "metadata": {
  "kernelspec": {
   "display_name": "Python 3",
   "language": "python",
   "name": "python3"
  },
  "language_info": {
   "codemirror_mode": {
    "name": "ipython",
    "version": 3
   },
   "file_extension": ".py",
   "mimetype": "text/x-python",
   "name": "python",
   "nbconvert_exporter": "python",
   "pygments_lexer": "ipython3",
   "version": "3.11.4"
  }
 },
 "nbformat": 4,
 "nbformat_minor": 2
}
